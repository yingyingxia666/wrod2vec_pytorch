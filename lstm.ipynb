{
  "nbformat": 4,
  "nbformat_minor": 0,
  "metadata": {
    "colab": {
      "name": "lstm.ipynb",
      "provenance": []
    },
    "kernelspec": {
      "name": "python3",
      "display_name": "Python 3"
    },
    "language_info": {
      "name": "python"
    },
    "accelerator": "GPU"
  },
  "cells": [
    {
      "cell_type": "code",
      "execution_count": null,
      "metadata": {
        "id": "VWB_i81y4bEs"
      },
      "outputs": [],
      "source": [
        "import torch\n",
        "import torch.nn as nn\n",
        "import torchtext\n",
        "from torchtext.vocab import Vectors\n",
        "import numpy as np\n",
        "import random\n"
      ]
    },
    {
      "cell_type": "code",
      "source": [
        "class LanguageModel(nn.Module):\n",
        "\n",
        "    def __init__(self, vocab_size, embedding_size, hidden_size, nlayers, dropout=0.5):\n",
        "        super(LanguageModel, self).__init__()\n",
        "        self.drop = nn.Dropout(dropout)\n",
        "        self.hidden_size = hidden_size\n",
        "        self.nlayers = nlayers\n",
        "\n",
        "        self.embedding = nn.Embedding(vocab_size, embedding_size)\n",
        "        self.rnn = nn.LSTM(embedding_size, hidden_size, nlayers, dropout=dropout)\n",
        "        self.linear = nn.Linear(hidden_size, vocab_size)  # (1000, 50002)\n",
        "        self.init_weights()\n",
        "        \n",
        "    def init_weights(self):\n",
        "        initrange = 0.1\n",
        "        self.embedding.weight.data.uniform_(-initrange, initrange)\n",
        "        self.linear.bias.data.zero_()\n",
        "        self.embedding.weight.data.uniform_(-initrange, initrange)\n",
        "\n",
        "    def forward(self, input, hidden):  \n",
        "       \n",
        "        embed = self.drop(self.embedding(input)) \n",
        "        output, hidden = self.rnn(embed, hidden) \n",
        "        output = self.drop(output)\n",
        "        linear = self.linear(output.view(-1, output.size(2)))  \n",
        "        return linear.view(output.size(0), output.size(1), linear.size(1)), hidden\n",
        "\n",
        "    def init_hidden(self, batch_size, requires_grad=True):\n",
        "        weight = next(self.parameters())\n",
        "        return (weight.new_zeros((self.nlayers, batch_size, self.hidden_size),requires_grad=requires_grad),weight.new_zeros((self.nlayers, batch_size, self.hidden_size),requires_grad=requires_grad))             "
      ],
      "metadata": {
        "id": "evfvO5Ov4cFO"
      },
      "execution_count": null,
      "outputs": []
    },
    {
      "cell_type": "code",
      "source": [
        "def repackage_hidden(hidden):\n",
        "    if isinstance(hidden, torch.Tensor): \n",
        "        return hidden.detach()\n",
        "    else: \n",
        "        return tuple(repackage_hidden(v) for v in hidden)"
      ],
      "metadata": {
        "id": "TRdrWuA84nrj"
      },
      "execution_count": null,
      "outputs": []
    },
    {
      "cell_type": "code",
      "source": [
        "def evaluate(model, dev_iter):\n",
        "    model.eval()\n",
        "    total_loss = 0.\n",
        "    it = iter(data)\n",
        "    total_count = 0.\n",
        "    \n",
        "    with torch.no_grad():\n",
        "        hidden = model.init_hidden(BATCH_SIZE, requires_grad=False)\n",
        "\n",
        "        for i, batch in enumerate(dev_iter):\n",
        "            data, target = batch.text, batch.target\n",
        "            if use_cuda:\n",
        "                data, target = data.cuda(), target.cuda()\n",
        "                \n",
        "            hidden = repackage_hidden(hidden) \n",
        "            with torch.no_grad():\n",
        "                output, hidden = model(data, hidden)\n",
        "            loss = loss_fn(output.view(-1, VOCAB_SIZE), target.view(-1))\n",
        "            total_count += np.multiply(*data.size()) \n",
        "            total_loss += loss.item()*np.multiply(*data.size()) \n",
        "\n",
        "    loss = total_loss / total_count \n",
        "    model.train() \n",
        "    return loss"
      ],
      "metadata": {
        "id": "exudp6f_A0Hl"
      },
      "execution_count": null,
      "outputs": []
    },
    {
      "cell_type": "code",
      "source": [
        "use_cuda= torch.cuda.is_available()\n",
        "random.seed(1234)\n",
        "np.random.seed(1234)\n",
        "torch.manual_seed(1234)\n",
        "if use_cuda:\n",
        "    torch.cuda.manual_seed(1234)\n",
        "\n",
        "#超参\n",
        "BATCH_SIZE = 32 \n",
        "EMBEDDING_SIZE = 500  \n",
        "MAX_VOCAB_SIZE = 50000\n",
        "hidden_size = 1000 \n",
        "learning_rate = 0.001\n",
        "GRAD_CLIP = 1.\n",
        "NUM_EPOCHS = 2\n",
        "\n",
        "\n",
        "TEXT = torchtext.legacy.data.Field(lower=True)   \n",
        "train, val, test = torchtext.legacy.datasets.LanguageModelingDataset.splits(path=\".\",train=\"train.txt\",validation=\"dev.txt\",test=\"test.txt\",text_field=TEXT)\n",
        "\n",
        "TEXT.build_vocab(train, max_size=MAX_VOCAB_SIZE)\n",
        "print(\"词汇表数量: {}\".format(len(TEXT.vocab)))\n",
        "\n",
        "VOCAB_SIZE = len(TEXT.vocab) \n",
        "train_iter, val_iter, test_iter = torchtext.legacy.data.BPTTIterator.splits((train, val, test),batch_size=BATCH_SIZE,device=-1,bptt_len=50,repeat=False,shuffle=True)\n",
        "\n",
        "model = LanguageModel(VOCAB_SIZE, EMBEDDING_SIZE, hidden_size, 2, dropout=0.5)\n",
        "if use_cuda:\n",
        "    model = model.cuda()\n",
        "\n",
        "loss_fn = nn.CrossEntropyLoss() \n",
        "optimizer = torch.optim.Adam(model.parameters(), lr=learning_rate)\n",
        "scheduler = torch.optim.lr_scheduler.ExponentialLR(optimizer, 0.5)\n",
        "\n",
        "val_losses = []\n",
        "for epoch in range(NUM_EPOCHS):\n",
        "    model.train() \n",
        "    hidden = model.init_hidden(BATCH_SIZE)\n",
        "\n",
        "    for i, batch in enumerate(train_iter):\n",
        "        data, target = batch.text, batch.target\n",
        "        if use_cuda:\n",
        "            data, target = data.cuda(), target.cuda()\n",
        "        hidden = repackage_hidden(hidden)\n",
        "\n",
        "        optimizer.zero_grad()   \n",
        "        output, hidden = model(data, hidden) \n",
        "        loss = loss_fn(output.view(-1, VOCAB_SIZE), target.view(-1)) \n",
        "        loss.backward()\n",
        "\n",
        "        torch.nn.utils.clip_grad_norm_(model.parameters(), GRAD_CLIP) \n",
        "        optimizer.step()\n",
        "        \n",
        "        if i % 1000 == 0:\n",
        "            print(\"epoch\", epoch, \"iter\", i, \"loss\", loss.item())\n",
        "    \n",
        "        if i % 10000 == 0:\n",
        "            val_loss = evaluate(model, val_iter)  \n",
        "            \n",
        "            if len(val_losses) == 0 or val_loss < min(val_losses):\n",
        "                print(\"best model, val_loss: \", val_loss)\n",
        "                torch.save(model.state_dict(), \"LanguageModel.th\")\n",
        "            else:\n",
        "                scheduler.step()  \n",
        "                optimizer = torch.optim.Adam(model.parameters(), lr=learning_rate)\n",
        "            val_losses.append(val_loss)\n",
        "\n"
      ],
      "metadata": {
        "id": "uIRkUNvV4q6L"
      },
      "execution_count": null,
      "outputs": []
    }
  ]
}